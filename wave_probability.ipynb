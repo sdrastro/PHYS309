{
 "cells": [
  {
   "cell_type": "markdown",
   "id": "fd27b130",
   "metadata": {},
   "source": [
    "# Wave functions and probability\n",
    "\n",
    "In our lesson on de Broglie waves, we discussed how electrons make interference patterns just like visible light in Young's double slit experiment if experimenters use slits with widths similar to the electron's de Broglie wavelength ($\\sim 10^{-11}$-$10^{-10}$ m). C. Jonsson successfully crafted such slits in 1961 by [electrolytically depositing copper on a polymer strip](https://www.sciencedirect.com/science/article/pii/S0040609018307570) which was printed on glass plates coated with silver.\n",
    "\n",
    "It would be nice if we could track the paths of our electrons as they go through the double copper slits. Having precision control over the positions of individual electrons would help in all kinds of applications: computer engineering, energy production, drug development. \n",
    "\n",
    "### Can we figure out which slit an electron went through?\n",
    "\n",
    "Let's use light as a probe of where the electrons are. We'll place a light source on one side of the slits and a detector on the other side. We hope each photon will bounce off an electron, revealing the electron's location. The path the electron took through the slit would simply be given by the line connecting the electron's location when \"seen\" (when the photon bounced off it) with the electron gun."
   ]
  },
  {
   "cell_type": "code",
   "execution_count": 35,
   "id": "3f2f2613",
   "metadata": {},
   "outputs": [
    {
     "data": {
      "text/plain": [
       "Text(-0.5, 6.55, '$\\\\theta$')"
      ]
     },
     "execution_count": 35,
     "metadata": {},
     "output_type": "execute_result"
    },
    {
     "data": {
      "image/png": "[encoded data removed]",
      "text/plain": [
       "<Figure size 504x432 with 3 Axes>"
      ]
     },
     "metadata": {
      "needs_background": "light"
     },
     "output_type": "display_data"
    }
   ],
   "source": [
    "import numpy as np\n",
    "import matplotlib.pyplot as plt\n",
    "from matplotlib.patches import Arc\n",
    "from scipy import constants\n",
    "\n",
    "fig, ax = plt.subplots(figsize=(7,6))\n",
    "ax.plot([-1.2, -1.2], [7, 10], color='k', lw=3)\n",
    "ax.plot([-1.2, -1.2], [4, 6], color='k', lw=3)\n",
    "ax.plot([-1.2, -1.2], [0, 3], color='k', lw=3)\n",
    "ax.scatter([-4], [5], color='mediumblue', s=100)\n",
    "ax.scatter([-3.7], [5.2], color='mediumblue', s=100)\n",
    "ax.scatter([-3.7], [4.8], color='mediumblue', s=100)\n",
    "ax.scatter([-3.4], [5.4], color='mediumblue', s=100)\n",
    "ax.scatter([-3.4], [4.6], color='mediumblue', s=100)\n",
    "ax.scatter([-3.4], [5.0], color='mediumblue', s=100)\n",
    "ax.scatter([-0.3], [7.1], color='mediumblue', s=100)\n",
    "ax.arrow(-3.2, 5.5, 0.4, 0.2, color='mediumblue', width=0.1)\n",
    "ax.arrow(-3.2, 5, 0.45, 0, color='mediumblue', width=0.1)\n",
    "ax.arrow(-3.2, 4.5, 0.4, -0.2, color='mediumblue', width=0.1)\n",
    "ax.arrow(-3.2, 5.5, 2.8, 1.4, color='mediumblue', width=0.01, ls=':')\n",
    "ax.axhline(6.5, color='k', ls=':')\n",
    "ax.axis('off')\n",
    "\n",
    "lightbulb = plt.imread('lightbulb.jpeg')\n",
    "lbax = fig.add_axes([0.75,0.15,0.1,0.1], anchor='NE', zorder=1)\n",
    "lbax.imshow(lightbulb)\n",
    "lbax.axis('off')\n",
    "\n",
    "ccdcam = plt.imread('ccd_camera_image.jpeg')\n",
    "ccdax = fig.add_axes([0.7,0.8,0.1,0.1], anchor='NE', zorder=1)\n",
    "ccdax.imshow(ccdcam)\n",
    "ccdax.axis('off')\n",
    "\n",
    "# Make wiggly lines to represent photons\n",
    "plt.rcParams['path.sketch'] = (3, 10, 1)\n",
    "ax.plot([-0.55, -0.36], [1.9, 6.6], color='goldenrod')\n",
    "ax.plot([-0.36, -0.58], [7.6, 11], color='goldenrod')\n",
    "\n",
    "# Put lines back to normal\n",
    "plt.rcParams['path.sketch'] = None\n",
    "\n",
    "# Mark angle theta\n",
    "thet = Arc([-1.2,6.5], 1.12, 1.3, angle=0, theta1=0, theta2=25, color=\"mediumblue\", lw=2)\n",
    "ax.add_patch(thet)\n",
    "\n",
    "# Put theta symbol on plot\n",
    "ax.text(-0.5, 6.55, r\"$\\theta$\", color='mediumblue', fontsize='large')"
   ]
  },
  {
   "cell_type": "markdown",
   "id": "65387a4e",
   "metadata": {},
   "source": [
    "Recall that the de Broglie wavelength of an electron with 50 EV of kinetic energy is 0.17 nm. That means both slit widths and the distance between the slits have to be about 0.17 nm or less in order to get interference. In turn, the photon must have wavelength $\\lambda < 0.17$ nm in order to pinpoint the electron's position. (It's impossible to pinpoint where within the wavelength the electron is; photons are only as precise as their wavelengths.) Below we calculate the energy of a photon with $\\lambda = 0.17$ nm using $E = h \\nu = h c / \\lambda$:"
   ]
  },
  {
   "cell_type": "code",
   "execution_count": 36,
   "id": "37446148",
   "metadata": {},
   "outputs": [
    {
     "name": "stdout",
     "output_type": "stream",
     "text": [
      "Photon energy (eV): 7293.188142591025\n"
     ]
    }
   ],
   "source": [
    "E = constants.physical_constants['joule-electron volt relationship'][0] * \\\n",
    "    constants.h * constants.c / (0.17 * 1e-9)\n",
    "print('Photon energy (eV):', E)"
   ]
  },
  {
   "cell_type": "markdown",
   "id": "fdaf2da7",
   "metadata": {},
   "source": [
    "The photon energy we calculated is far above the electron's kinetic energy. If we hit the photon with a 7 keV x-ray, we'll impart energy and momentum to the electron and change its direction of travel $\\theta$. Then we won't be able to trace the electron's path back through the slit.\n",
    "\n",
    "### At the quantum level, you can't observe something without changing it\n",
    "\n",
    "If we use light to try to follow the path of each photon as it goes through one of the slits, we're making them Compton scatter off the electrons. Compton scattering is a particle phenomenon, so our attempt to probe the wave pattern made the photons act like particles.\n",
    "\n",
    "Another way to conceptualize the failure of our electron tracing thought experiment is that we need smooth wavefronts in order to get the interference pattern. That's the reason the slits have to be so narrow: the wavefronts need to be as even as possible. If we start throwing photons at our electron wavefronts, we're breaking up the wavefronts and we no longer get the interference pattern we expect.\n",
    "\n",
    "### Our equations of motion can no longer be deterministic\n",
    "\n",
    "We are now in the realm of probability. We can't pinpoint exactly where a particle is; we can just construct a wave function that describes where the particle <em>could</em> be."
   ]
  },
  {
   "cell_type": "code",
   "execution_count": null,
   "id": "43541c3f",
   "metadata": {},
   "outputs": [],
   "source": []
  }
 ],
 "metadata": {
  "kernelspec": {
   "display_name": "Python 3",
   "language": "python",
   "name": "python3"
  },
  "language_info": {
   "codemirror_mode": {
    "name": "ipython",
    "version": 3
   },
   "file_extension": ".py",
   "mimetype": "text/x-python",
   "name": "python",
   "nbconvert_exporter": "python",
   "pygments_lexer": "ipython3",
   "version": "3.8.8"
  }
 },
 "nbformat": 4,
 "nbformat_minor": 5
}
