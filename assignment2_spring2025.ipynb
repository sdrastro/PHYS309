{
 "cells": [
  {
   "cell_type": "code",
   "execution_count": 1,
   "id": "48645757",
   "metadata": {},
   "outputs": [],
   "source": [
    "import numpy as np\n",
    "import matplotlib.pyplot as plt\n",
    "from scipy import constants\n",
    "\n",
    "plt.rcParams.update({\"font.size\":16, \"axes.labelsize\":16, \"font.family\":\"sans-serif\", \n",
    "                     \"font.sans-serif\":\"Arial\"})"
   ]
  },
  {
   "cell_type": "markdown",
   "id": "c34cca74",
   "metadata": {},
   "source": [
    "Recall that in PHYS 207, you were often asked to plot displacement as a function of time. For example, for a baseball thrown directly upward you would plot $y(t)$, and for a block on a horizontal spring you would plot $x(t)$. Here we will examine how the displacement and time axes \"scissor together\" at relativistic speeds.\n",
    "\n",
    "The convention in relativity is to reverse the axes: $ct$ is vertical and $x$ is horizontal. Time moves forward from the bottom to the top of the plot:"
   ]
  },
  {
   "cell_type": "code",
   "execution_count": 2,
   "id": "1218b179",
   "metadata": {},
   "outputs": [
    {
     "data": {
      "text/plain": [
       "(-1.0, 1.0, -1.0, 1.0)"
      ]
     },
     "execution_count": 2,
     "metadata": {},
     "output_type": "execute_result"
    },
    {
     "data": {
      "image/png": "[encoded data removed]",
      "text/plain": [
       "<Figure size 288x288 with 1 Axes>"
      ]
     },
     "metadata": {
      "needs_background": "light"
     },
     "output_type": "display_data"
    }
   ],
   "source": [
    "plt.figure(figsize=(4,4))\n",
    "plt.xlim([-1,1])\n",
    "plt.ylim([-1,1])\n",
    "plt.annotate(text='', xy=(-1,0), xytext=(1,0), arrowprops=dict(arrowstyle='<->'))\n",
    "plt.annotate(text='', xy=(0,-1), xytext=(0,1), arrowprops=dict(arrowstyle='<->'))\n",
    "plt.text(0.98, 0.04, r\"$+x$\", horizontalalignment='center', verticalalignment='bottom')\n",
    "plt.text(-0.98, 0.04, r\"$-x$\", horizontalalignment='center', verticalalignment='bottom')\n",
    "plt.text(-0.04, 1.02, r\"$+ct$\", horizontalalignment='right', verticalalignment='center')\n",
    "plt.text(-0.04, -1.02, r\"$-ct$\", horizontalalignment='right', verticalalignment='center')\n",
    "plt.axis('off')"
   ]
  },
  {
   "cell_type": "markdown",
   "id": "5a144bbe",
   "metadata": {},
   "source": [
    "Imagine that frame $K^{\\prime}$ is moving in the $+x$ direction at speed $v$ relative to frame $K$. You are at rest in frame $K$. Let's figure out how the set of $(x^{\\prime}, ct^{\\prime})$ axes would look to you when the frames' origins $O$ and $O^{\\prime}$ coincide.\n",
    "\n",
    "<ol>\n",
    "    <li>Use the fact that $x^{\\prime} = 0$ on the $ct^{\\prime}$ axis to define a line $ct(x)$ in frame $K$ that follows the $ct^{\\prime}$ axis. Write a function that computes points on the line. $v$ will be one of your function inputs.</li>\n",
    "</ol>"
   ]
  },
  {
   "cell_type": "code",
   "execution_count": null,
   "id": "c5fcb88d",
   "metadata": {},
   "outputs": [],
   "source": []
  },
  {
   "cell_type": "markdown",
   "id": "6c011185",
   "metadata": {},
   "source": [
    "<ol start=2>\n",
    "    <li>Use the fact that $ct^{\\prime} = 0$ on the $x^{\\prime}$ axis to define a line $ct(x)$ that traces the $x^{\\prime}$ axis in frame $K$. Write a second function that computes points on this line.</li>\n",
    "</ol>"
   ]
  },
  {
   "cell_type": "code",
   "execution_count": null,
   "id": "b7d97ab8",
   "metadata": {},
   "outputs": [],
   "source": []
  },
  {
   "cell_type": "markdown",
   "id": "b88dc68a",
   "metadata": {},
   "source": [
    "<ol start=3>\n",
    "    <li>The code below creates a figure with centered $(x, ct)$ axes that have range $(-10^{10}, 10^{10})$ m. We are using $ct$ instead of just $t$ on our vertical axis so that both axes have the same units. Use your functions from problems 1 and 2 to overplot the $ct^{\\prime}$ and $x^{\\prime}$ axes <strong>as a function of $x$</strong> for $v = 0.2c$. Make your $ct^{\\prime}$ and $x^{\\prime}$ axes red, and label them in red. Also add black labels to the $(x, ct)$ axes giving the coordinate name ($x$ or $ct$) and the units.</li>\n",
    "</ol>"
   ]
  },
  {
   "cell_type": "code",
   "execution_count": null,
   "id": "a7779487",
   "metadata": {},
   "outputs": [],
   "source": [
    "# Set up an array of independent variables x that spans (-1e10, 1e10) m\n",
    "x = np.linspace(0, 2e10, num=201, endpoint=True) - 1e10\n",
    "\n",
    "# Make a figure\n",
    "fig, ax = plt.subplots(figsize=(7,7))\n",
    "\n",
    "# YOUR CODE HERE: Use ax.plot() to plot the ct' and x' axes below\n",
    "\n",
    "\n",
    "# Move the left and bottom \"spines\" (borders of the plot) to the center\n",
    "# This makes a math textbook-like set of (x,ct) axes instead of a box around the plot\n",
    "ax.spines['left'].set_position(('data', 0))\n",
    "ax.spines['bottom'].set_position(('data', 0))\n",
    "\n",
    "# Take out the top and right spines\n",
    "ax.spines['right'].set_visible(False)\n",
    "ax.spines['top'].set_visible(False)\n",
    "\n",
    "# Make the two axes have the same scale\n",
    "ax.set_aspect('equal')\n",
    "\n",
    "# Set the axes ranges\n",
    "ax.set_xlim([-1e10, 1e10])\n",
    "ax.set_ylim([-1e10, 1e10])\n",
    "\n",
    "# YOUR CODE HERE: Use ax.text() to add RED labels to the ct' and x' axes below\n",
    "\n"
   ]
  },
  {
   "cell_type": "markdown",
   "id": "f9a061e5",
   "metadata": {},
   "source": [
    "<ol start=4>\n",
    "    <li>Make a figure that plots $ct^{\\prime}$ and $x^{\\prime}$ axes for $v = 0.25c$, $v = 0.5c$, and $v = 0.75c$. Use different colors for each pair of axes. Make a legend that shows which value of $v$ corresponds to each color. Label the $(x, ct)$ axes and add units.</li>\n",
    "</ol>"
   ]
  },
  {
   "cell_type": "code",
   "execution_count": null,
   "id": "5e941527",
   "metadata": {},
   "outputs": [],
   "source": [
    "# Plot here. You may copy syntax from the previous cell."
   ]
  },
  {
   "cell_type": "markdown",
   "id": "5a0a5c06",
   "metadata": {},
   "source": [
    "<ol start=5>\n",
    "    <li>Connect your graph from problem 4 with the discussion of world lines in Chapter 2 of your textbook. What kind of world line do your $(x^{\\prime}, ct^{\\prime})$ axes approach as $v \\rightarrow c$? Create a similar plot to problem 4, but this time plot $(x^{\\prime}, ct^{\\prime})$ axes for $v = 0.5, 0.75, 0.875, 0.9375$. To illustrate the concept of taking a limit as $v \\rightarrow c$, make each set of $( x^{\\prime}, ct^{\\prime})$ axes a successively darker shade of gray. Plot the limiting world line in black. Add a legend to show which value of $v$ corresponds to which shade of gray. You may find it helpful to specify line colors like this: <tt>color='0.7'</tt>.</li>\n",
    "</ol>"
   ]
  },
  {
   "cell_type": "code",
   "execution_count": null,
   "id": "c43116f3",
   "metadata": {},
   "outputs": [],
   "source": [
    "# Plot here"
   ]
  }
 ],
 "metadata": {
  "kernelspec": {
   "display_name": "Python 3",
   "language": "python",
   "name": "python3"
  },
  "language_info": {
   "codemirror_mode": {
    "name": "ipython",
    "version": 3
   },
   "file_extension": ".py",
   "mimetype": "text/x-python",
   "name": "python",
   "nbconvert_exporter": "python",
   "pygments_lexer": "ipython3",
   "version": "3.8.8"
  }
 },
 "nbformat": 4,
 "nbformat_minor": 5
}
