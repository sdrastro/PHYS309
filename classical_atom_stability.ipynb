{
 "cells": [
  {
   "cell_type": "markdown",
   "id": "cf0934a6",
   "metadata": {},
   "source": [
    "# Order of magnitude calculation: how long can the classical atom last?\n",
    "\n",
    "In <tt>Rutherford_model.ipynb</tt>, we stated that an atom built on classical physics, with the electron emitting light due to its acceleration via the Coulomb force, is not stable. The electron will spiral inward and crash into the nucleus. <strong>How long does the in-spiral take?</strong>\n",
    "\n",
    "First, read about the [creation of a light wave from an accelerating charge](http://www.tapir.caltech.edu/~teviet/Waves/empulse.html).\n",
    "\n",
    "To answer our question, we will use order-of-magnitude physics, just as we did when we showed that the plum pudding model is not correct. We won't <em>exactly</em> follow the electron's spiral path; we'll just estimate the inspiral time in a hydrogen atom as\n",
    "#### ${\\rm time} \\approx \\frac{\\rm potential \\; energy \\; of \\; orbit}{\\rm radiated \\; power}$.\n",
    "\n",
    "To derive the power radiated by the spiraling electron, we'll first calculate the frequency of emitted radiation. This is simply the orbital frequency of the electron:\n",
    "<ul>\n",
    "    <li>$\\nu = \\frac{\\omega}{2 \\pi}$, where $\\omega$ is the electron orbit's angular frequency</li>\n",
    "    <li>$\\omega = \\frac{v}{r_B}$, where $v$ is the orbital speed and $r_B$ is the electron's distance from the nucleus (which we are calling the \"Bohr radius\")</li>\n",
    "    <li>To estimate $r_B$, we go back to our class notes from March 22. We stated that the volume of an atom was $V \\approx \\frac{1}{5.9 \\times 10^{28}}$ m$^3$. Using $r_B \\approx V^{1/3}$, we find $r_B \\approx 2.6 \\times 10^{-10}$ m.</li>\n",
    "    <li>$v$ comes from applying Coulomb's law to uniform circular motion: $F = m_e \\frac{v^2}{r_B} = \\frac{1}{4 \\pi \\epsilon_0} \\frac{e^2}{r^2}$, where $m_e$ is the electron mass and $e$ is the elementary charge</li>\n",
    "    <li>Solving for $v$ gives $v =  \\frac{e}{\\sqrt{4 \\pi \\epsilon_0 m_e r_B}}$</li>\n",
    "    <li>Plugging back into our equation for $\\omega$ gives $\\omega = \\frac{e}{\\sqrt{4 \\pi \\epsilon_0 m_e}} r_B^{-3/2}$</li>\n",
    "    <li>Finally, $\\nu = \\frac{1}{2 \\pi} \\frac{e}{\\sqrt{4 \\pi \\epsilon_0 m_e}} r_B^{-3/2}$</li>\n",
    "\n",
    "</ul>\n",
    "\n",
    "We calculate the frequency below:"
   ]
  },
  {
   "cell_type": "code",
   "execution_count": 6,
   "id": "6a7f225f",
   "metadata": {},
   "outputs": [
    {
     "name": "stdout",
     "output_type": "stream",
     "text": [
      "light frequency (Hz): 6.042e+14\n",
      "light wavelength (nm): 496.2\n"
     ]
    }
   ],
   "source": [
    "import numpy as np\n",
    "from scipy import constants\n",
    "\n",
    "r_B = 2.6e-10 # meters\n",
    "nu = r_B**-1.5 * constants.elementary_charge / \\\n",
    "     (2 * np.pi * np.sqrt(4*np.pi * constants.epsilon_0 * constants.electron_mass))\n",
    "print('light frequency (Hz):', f\"{nu:.4g}\")\n",
    "print('light wavelength (nm):', f\"{1e9*constants.c/nu:.4g}\")"
   ]
  },
  {
   "cell_type": "markdown",
   "id": "c6cf1425",
   "metadata": {},
   "source": [
    "<strong>The orbiting electron would emit greenish-blue light.</strong>"
   ]
  },
  {
   "cell_type": "code",
   "execution_count": null,
   "id": "bd1a90b1",
   "metadata": {},
   "outputs": [],
   "source": []
  }
 ],
 "metadata": {
  "kernelspec": {
   "display_name": "Python 3",
   "language": "python",
   "name": "python3"
  },
  "language_info": {
   "codemirror_mode": {
    "name": "ipython",
    "version": 3
   },
   "file_extension": ".py",
   "mimetype": "text/x-python",
   "name": "python",
   "nbconvert_exporter": "python",
   "pygments_lexer": "ipython3",
   "version": "3.8.8"
  }
 },
 "nbformat": 4,
 "nbformat_minor": 5
}
