{
 "cells": [
  {
   "cell_type": "markdown",
   "id": "33a44e42",
   "metadata": {},
   "source": [
    "# Assignment 3\n",
    "\n",
    "\n",
    "### Relativity visualization and radiation\n",
    "\n",
    "On this homework assignment, you will be responsible for importing all of the python packages you need for your calculations. You will also be responsible for making your plot axis labels large enough for me to read them easily. Please make sure to put units on your axes where appropriate.\n",
    "\n",
    "Instead of defining your own constants, use the pre-programmed values from <tt>scipy.constants</tt>."
   ]
  },
  {
   "cell_type": "code",
   "execution_count": 1,
   "id": "b20d4fa6",
   "metadata": {},
   "outputs": [],
   "source": [
    "# Import your packages here"
   ]
  },
  {
   "cell_type": "markdown",
   "id": "48e3e861",
   "metadata": {},
   "source": [
    "<ol>\n",
    "    <li>Recall the velocity addition example from class: Frank is on a space station, Mary is in a spacecraft moving away from the space station in the +x direction, and she is firing a proton gun at asteroids that are in the spacecraft's path.\n",
    "        <ol>\n",
    "            <li>Assume the protons leave the proton gun with speed 0.99c in the +x direction. Plot the proton speed measured by <em>Frank</em> as a function of spacecraft speed relative to the space station.</li>\n",
    "            <li>Now suppose the protons leave the gun in a \"cone\" shape rather than straight along the +x axis, so that their velocity vectors have y and z components. The angle of the proton code is $15^{\\circ}$, and their launch speed is still 0.99c. Plot Frank's measurement of the y-component of the proton velocity at the edge of the cone, as a function of spacecraft speed.</li>\n",
    "        </ol>\n",
    "    </li>\n",
    "</ol>"
   ]
  },
  {
   "cell_type": "code",
   "execution_count": null,
   "id": "cd5c514e",
   "metadata": {},
   "outputs": [],
   "source": []
  },
  {
   "cell_type": "markdown",
   "id": "88a17359",
   "metadata": {},
   "source": [
    "<ol start=2>\n",
    "    <li>Make a 2-d plot of spacetime with $x$ on the horizontal axis and $ct$ on the vertical axis.\n",
    "    <ol>\n",
    "        <li>Imagine two flashbulbs positioned in the Earth's approximate rest frame with locations $x = 0$ km and $x = 300000$ km (slightly less than the moon's distance from Earth). Both bulbs flash at $t = 0$. Represent the flashes with points on your spacetime plot. Put in world lines representing travel of the light from each flash.</li>\n",
    "        <li>Suppose the James Webb Space Telescope is at rest at $x = 150000$ km. Mark it on the plot with the symbol of your choice, then plot its world line.</li>\n",
    "        <li>Aliens are sending a reconnaissance microprobe through the solar system at high speed. At $t = 0$, the probe is lurking at $x = 500000$ km. In the (approximate) rest frame of observers on Earth, the microprobe moves at speed $0.1c$ in the -x direction. Mark the probe's position at $t = 0$ and plot its world line.</li>\n",
    "        </ol></li>\n",
    "</ol>\n",
    "\n",
    "Based only on your plot, would you say the flashes were simultaneous the point of view of the James Webb Space Telescope? What about from the point of view of the microprobe?"
   ]
  },
  {
   "cell_type": "code",
   "execution_count": null,
   "id": "9c39ee9f",
   "metadata": {},
   "outputs": [],
   "source": []
  },
  {
   "cell_type": "markdown",
   "id": "75787601",
   "metadata": {},
   "source": [
    "<ol start=3>\n",
    "    <li>Use Wien's displacement law, $\\lambda_{\\rm max} = \\frac{2.898 \\times 10^{-3} \\mathrm{m} \\cdot \\mathrm{K}}{T}$, to find and plot the wavelength of maximum intensity for seven different types of stars: O5, B5, A5, F5, G5, K5, M5. Label both axes and each data point on your plot. You may find <a href=\"https://sites.uni.edu/morgans/astro/course/Notes/section2/spectraltemps.html\">this table</a> of star types and temperatures helpful. Warning: <em>watch your units</em>.</li>\n",
    "</ol>"
   ]
  },
  {
   "cell_type": "code",
   "execution_count": null,
   "id": "c4ee1cdf",
   "metadata": {},
   "outputs": [],
   "source": []
  },
  {
   "cell_type": "markdown",
   "id": "183553e1",
   "metadata": {},
   "source": [
    "In class we will describe the photoelectric effect qualitatively in terms of photons knocking electrons loose from their atoms. Here we will delve into the photoelectric effect quantitatively. Read about the photoelectric effect in your textbook, then read <em>Photoelectric effect step by step</em> in the Quantization module of Canvas. (Note: <em>Photoelectric effect step by step</em> is designed to go along with a lab, which we don't have.)\n",
    "\n",
    "A note about units: recall from PHYS 208/245 that 1 Volt = 1 Joule/Coulomb. Electrons and protons give us a fundamental unit of electric charge, or elementary charge, $|q| = e = 1.602 \\times 10^{−19}$ C. We can also calculate a fundamental unit of energy by calculating the change in kinetic energy of the elementary charge $e$ accelerated through an electric potential of 1 Volt. This new unit of energy is called the electron-Volt or eV. 1 eV = $1.602 \\times 10^{−19}$ J.\n",
    "\n",
    "<ol start=4>\n",
    "    <li>Assume you are trying to verify the experimental results that led to Einstein's successful explanation of the photoelectric effect. You have two emitters or \"photocathodes\"; one is made of aluminum and the other is made of gold. On <strong>one set of axes</strong>, plot the <em>maximum</em> photoelectron kinetic energy in eV that you could measure as a function of frequency $\\nu$ from <strong>both photocathodes</strong>. Make sure your plot shows the frequency cutoffs below which <em>no</em> photoelectrons will be generated. Label both axes and put a legend on your plot so a reader with no physics experience will know which curve belongs to which metal. You may find this <a href=\"http://hyperphysics.phy-astr.gsu.edu/hbase/Tables/photoelec.html\">table of work functions</a> helpful.</li>\n",
    "</ol>"
   ]
  },
  {
   "cell_type": "code",
   "execution_count": null,
   "id": "991e7949",
   "metadata": {},
   "outputs": [],
   "source": []
  }
 ],
 "metadata": {
  "kernelspec": {
   "display_name": "Python 3",
   "language": "python",
   "name": "python3"
  },
  "language_info": {
   "codemirror_mode": {
    "name": "ipython",
    "version": 3
   },
   "file_extension": ".py",
   "mimetype": "text/x-python",
   "name": "python",
   "nbconvert_exporter": "python",
   "pygments_lexer": "ipython3",
   "version": "3.8.8"
  }
 },
 "nbformat": 4,
 "nbformat_minor": 5
}
