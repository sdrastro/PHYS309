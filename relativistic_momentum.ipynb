{
 "cells": [
  {
   "cell_type": "markdown",
   "id": "442ac4bd",
   "metadata": {},
   "source": [
    "# Relativistic momentum\n",
    "\n",
    "We have introduced the Lorentz transformation as a way to describe high-speed relative motion without violating electromagnetic theory. We know how to measure time, position, velocity, and frequency of light so that $c$ is constant and $v < c$ in all reference frames. Now we have to figure out how to change Newton's second law, $\\vec{F} = \\frac{d \\vec{p}}{dt} = m \\vec{a}$, so that forces can't accelerate objects up to speeds $v \\geq c$.\n",
    "\n",
    "Here's a toy example that shows how Newton's second law can cause problems with Einsteinian relativity. An <a href=\"https://www.ulalaunch.com/rockets/atlas-v\">Atlas V main engine</a> has nominal thrust 860,300 lbs. With today's technology, the main engine only burns for about 300 seconds. But suppose engineers of the future figure out how to construct a rocket engine with the same thrust as the Atlas V that can burn for many days. How long would it take to accelerate an interstellar spaceship of mass 10,000 kg up to greater than light speed? Assume the propulsion system doesn't involve significant mass loss, so that mass after acceleration $\\approx$ mass at launch.\n",
    "\n",
    "Note: 10,000 kg is a little more than double the mass of the New Horizons spacecraft, which flew past Pluto in 2015 and is now journeying through the Kuiper Belt."
   ]
  },
  {
   "cell_type": "code",
   "execution_count": 1,
   "id": "3c82cad8",
   "metadata": {},
   "outputs": [],
   "source": [
    "import numpy as np\n",
    "import matplotlib.pyplot as plt\n",
    "from scipy import constants\n",
    "\n",
    "plt.rcParams.update({\"font.size\":16, \"axes.labelsize\":16, \"font.family\":\"sans-serif\", \n",
    "                     \"font.sans-serif\":\"Arial\"})"
   ]
  },
  {
   "cell_type": "code",
   "execution_count": 13,
   "id": "0d3a5421",
   "metadata": {},
   "outputs": [
    {
     "data": {
      "text/plain": [
       "<matplotlib.lines.Line2D at 0x7fb1e80949a0>"
      ]
     },
     "execution_count": 13,
     "metadata": {},
     "output_type": "execute_result"
    },
    {
     "data": {
      "image/png": "[encoded data removed]",
      "text/plain": [
       "<Figure size 432x288 with 1 Axes>"
      ]
     },
     "metadata": {
      "needs_background": "light"
     },
     "output_type": "display_data"
    }
   ],
   "source": [
    "thrust = 860300 * constants.pound_force # constants.pound_force is the conversion from lbs to Newtons\n",
    "mass = 10000 # kg\n",
    "\n",
    "# Time in days\n",
    "time = np.linspace(0, 10, num=201, endpoint=True)\n",
    "\n",
    "# v = (F/m) * t\n",
    "speed = (thrust / mass) * (time * constants.day) # constants.day is the number of seconds in a day\n",
    "\n",
    "plt.plot(time, speed, color='k')\n",
    "plt.xlabel('Time (days)')\n",
    "plt.ylabel('Speed (m/s)')\n",
    "plt.axhline(constants.c, color='r', ls=':', lw=2)\n",
    "plt.text(0, 3.1e8, 'Light speed', color='r')\n",
    "plt.axvline(9, color='k', ls=':')"
   ]
  },
  {
   "cell_type": "markdown",
   "id": "59810dae",
   "metadata": {},
   "source": [
    "If we could maintain the thrust of the Atlas V launch for nine days, we could get a 10,000-kg spacecraft up to light speed and beyond. That would be great for space exploration - we could travel to the $\\alpha$ Cen system in less than a year - but it's inconsistent with Einsteinian physics.\n",
    "\n",
    "### Let's use conservation of momentum in elastic collisions to fix Newton's second law\n",
    "\n",
    "Consider Frank at rest in frame of reference $K$, and Mary at rest in frame $K^{\\prime}$. Relative to $K$, $K^{\\prime}$ moves in the $+x$ direction at speed $v$. Frank and Mary are each going to throw a ball of mass $m$ at speed $u_0$. Frank throws his <em>straight upward in frame</em> $K$, and Mary throws hers <em>straight downward</em> <em>in frame</em> $K^{\\prime}$. The two balls collide elastically: after the collision, Frank sees his ball rebound straight downward in $K$, while Mary sees her ball rebound straight upward in $K^{\\prime}$. To an observer at rest in frame $K$, the collision looks like this:"
   ]
  },
  {
   "cell_type": "code",
   "execution_count": 40,
   "id": "d6741ce8",
   "metadata": {},
   "outputs": [
    {
     "data": {
      "text/plain": [
       "(-1.173, 1.203, -0.173, 2.203)"
      ]
     },
     "execution_count": 40,
     "metadata": {},
     "output_type": "execute_result"
    },
    {
     "data": {
      "image/png": "[encoded data removed]",
      "text/plain": [
       "<Figure size 504x504 with 1 Axes>"
      ]
     },
     "metadata": {
      "needs_background": "light"
     },
     "output_type": "display_data"
    }
   ],
   "source": [
    "# Create figure\n",
    "plt.figure(figsize=(7,7))\n",
    "\n",
    "# Positions of Frank's and Mary's balls before, during, and after collision\n",
    "Fball_posx = [-0.02, 0, 0.02]\n",
    "Fball_posy = [0, 0.97, 0]\n",
    "Mball_posx = [-1, 0, 1]\n",
    "Mball_posy = [2, 1.03, 2]\n",
    "plt.scatter(Fball_posx, Fball_posy, s=100, marker='o', color='crimson', alpha=0.5)\n",
    "plt.scatter(Mball_posx, Mball_posy, s=100, marker='o', color='mediumblue', alpha=0.5)\n",
    "\n",
    "# Arrows to illustrate path of Frank's ball\n",
    "plt.arrow(-0.03, 0.05, 0, 0.83, color='crimson', width=0.01)\n",
    "plt.arrow(0.03, 0.90, 0, -0.83, color='crimson', width=0.01)\n",
    "plt.text(0.05, 0.5, \"Frank's ball\", color='crimson')\n",
    "\n",
    "# Arrows to illustrate path of Mary's ball\n",
    "plt.arrow(-0.95, 1.95, 0.85, -0.85, color='mediumblue', width=0.01)\n",
    "plt.arrow(0.08, 1.08, 0.85, 0.85, color='mediumblue', width=0.01)\n",
    "plt.text(-0.54, 1.6, \"Mary's ball\", color='mediumblue')\n",
    "\n",
    "# Draw axes of frames K and K'\n",
    "plt.arrow(-1.05, -0.05, 2.1, 0, width=0.01, color='gray')\n",
    "plt.arrow(-1.05, -0.05, 0, 0.95, width=0.01, color='gray')\n",
    "plt.text(-1, 0.87, r\"$K$\", color='k')\n",
    "plt.arrow(-1.05, 1, 0.75, 0, width=0.01, color='gray')\n",
    "plt.arrow(-1.05, 1, 0, 1.05, width=0.01, color='gray')\n",
    "plt.text(-1, 1.75, r\"$K^{\\prime}$\", color='gray')\n",
    "plt.arrow(0.15, 1, 0.75, 0, width=0.01, color='gray')\n",
    "plt.arrow(0.15, 1, 0, 1.05, width=0.01, color='gray')\n",
    "plt.text(0.18, 1.75, r\"$K^{\\prime}$\", color='gray')\n",
    "\n",
    "# Draw velocity arrow\n",
    "plt.arrow(-0.75, 1.9, 0.5, 0, color='gray', width=0.01)\n",
    "plt.text(-0.53, 1.93, 'v', color='gray')\n",
    "\n",
    "# Equal aspect ratio\n",
    "plt.gca().set_aspect('equal')\n",
    "\n",
    "# Turn off axis labels\n",
    "plt.gca().axis('off')"
   ]
  },
  {
   "cell_type": "markdown",
   "id": "178731cc",
   "metadata": {},
   "source": [
    "Before the collision, Frank's ball has velocity $\\vec{u} = +u_0 \\hat{y}$ in frame $K$; after the collision, Frank's ball has velocity $\\vec{u} = -u_0 \\hat{y}$ in frame $K$. Thus, in frame $K$, Frank's ball has \n",
    "\n",
    "$\\Delta \\vec{p_F} = -2 m u_0 \\hat{y}$. \n",
    "\n",
    "<em>In frame</em> $K^{\\prime}$ - but not in $K$ - Mary's ball does the mirror image of Frank's ball: its pre-collision velocity is $u^{\\prime} = -u_0 \\hat{y}$, its post-collision velocity is $u^{\\prime} = +u_0 \\hat{y}$, and its change in momentum in $K^{\\prime}$ is \n",
    "\n",
    "$\\Delta \\vec{p_M}^{\\prime} = 2 m u_0 \\hat{y}$.\n",
    "\n",
    "To describe momentum relativistically, we need an expression for the change in momentum $\\Delta p_M$ of Mary's ball <em>measured by Frank</em>. Let's try using the velocity transformation equations from our lesson on velocity addition:$^{\\star}$\n",
    "\n",
    "### $u_x = \\frac{u_x^{\\prime} + v}{1 + (v/c^2) u_x^{\\prime}}$           (1)\n",
    "\n",
    "### $u_y = \\frac{u_y^{\\prime}}{\\gamma \\left[ 1 + (v/c^2) u^{\\prime}_x \\right]}$      (2)\n",
    "\n",
    "In $K^{\\prime}$, Mary drops her ball straight down and it bounces straight back up off Frank's ball. Thus $u_x^{\\prime} = 0$, which gives $u_x = v$ when substituted into Equation (1).\n",
    "\n",
    "Plugging $u_{y0}^{\\prime} = -u_0$ into Equation (2) to find the pre-collision vertical speed of Mary's ball <em>measured by Frank in frame $K$</em>, $u_x^{\\prime} = 0$ gives $(v/c^2) u^{\\prime}_x = 0$, which we substitute into Equation (2) to get\n",
    "\n",
    "$u_{y0} = -u_{y0}^{\\prime} / \\gamma = -u_0 \\sqrt{1 - v^2/c^2}$. \n",
    "\n",
    "After the collision, when Mary's ball is moving in the $+y^{\\prime}$ direction in frame $K^{\\prime}$, it has $u_x = v$ and \n",
    "\n",
    "$u_{yf} = u_{y0}^{\\prime} / \\gamma = u_0 \\sqrt{1 - v^2/c^2}$\n",
    "\n",
    "where $u_{yf}$ is the ball's <em>final</em> y-velocity after the acceleration. The speed of Mary's ball in the $x$ direction hasn't changed, so the change in momentum of Mary's ball is given entirely by the change in $y$ speed:\n",
    "\n",
    "$\\Delta p_M = m (u_{yf} - u_{y0}) = 2 m u_0 \\sqrt{1 - v^2/c^2}$.\n",
    "\n",
    "We know that momentum must be conserved during the collision: $\\Delta \\vec{p} = 0$. According to Einstein's postulates, the laws of physics are the same in every inertial (non-accelerating) frame, so conservation of momentum must apply in both $K$ and $K^{\\prime}$. Let's see if the math we have done so far gives us a solution to the relativistic momentum problem. In frame $K$, conservation of momentum is stated as\n",
    "\n",
    "#### $\\Delta p_x = 0$,   $\\Delta p_y = 0$\n",
    "\n",
    "Where $p_x = p_{Mx} + p_{Fx}$ and $p_y = p_{My} + p_{Fy}$ ($My$ = Mary's ball, y direction, etc).\n",
    "\n",
    "The x direction is no problem: Frank's ball has $p_{Fx} = 0$ and Mary's ball has $p_{Mx} = mv$ throughout the collision (remember we're measuring momentum in Frank's rest frame). In the y-direction we get\n",
    "\n",
    "#### $p_{y0} = m u_0 - m u_0 \\sqrt{1 - v^2/c^2}$    (pre-collision)\n",
    "#### $p_{yf} = -m u_0 + m u_0 \\sqrt{1 - v^2/c^2}$     (post-collision)\n",
    "\n",
    "### Thus $\\Delta p_y = -2 m u_0 + 2 m u_0 \\sqrt{1 - v^2/c^2}$, which is not zero.\n",
    "\n",
    "#### This result violates Einstein's first postulate.\n",
    "\n",
    "$^{\\star}$Recall that we derived these equations for the case when Mary, on a spaceship moving in the $+x$ direction relative to Frank's space station, was shooting a proton gun in the $+x$ direction. This is why our velocity addition equations transform $u_x^{\\prime} \\rightarrow u_x, u_y^{\\prime} \\rightarrow u_y$. To go the other direction, reverse the signs."
   ]
  },
  {
   "cell_type": "markdown",
   "id": "fd951b27",
   "metadata": {},
   "source": [
    "#### We have a problem.\n",
    "\n",
    "Relativistically, it can't be true that $p = m v$ and $\\Delta p = m \\Delta v$. Let's try the same procedure we used to fix the Galilean displacement and velocity transformations. We need each value of $p$ to correspond to exactly one value of $p^{\\prime}$, which means we want a linear transformation:\n",
    "\n",
    "#### $p = \\Gamma(u) m u$,\n",
    "\n",
    "where $u$ is the speed of an object <em>measured in a reference frame</em>, not the relative speed of two frames, and $\\Gamma(u)$ is a linear function of $u$ (because you can't have more than one possible $\\Gamma$ for one value of $u$). To find $\\Gamma(u)$, let's see what it would take to fix our conservation of momentum in the ball collision example above. In frame $K$, the momentum change of Frank's ball during the collision will be $\\Delta p_F = -2 \\Gamma(u_0) \\, m u_0 \\hat{y}$. In frame $K^{\\prime}$, the momentum change of Mary's ball wil be $\\Delta p_M^{\\prime} = +2 \\Gamma(u_0) \\, m u_0 \\hat{y}$. But we need $\\Delta \\vec{p_F} + \\Delta \\vec{p_M} = 0$ and $\\Delta \\vec{p_F}^{\\prime} + \\Delta \\vec{p_M}^{\\prime} = 0$ in order to conserve momentum in both frames (Einstein's postulates). That means $\\Delta \\vec{p_F} = -\\Delta \\vec{p_M}$, $\\Delta \\vec{p_F}^{\\prime} = - \\Delta \\vec{p_M}^{\\prime}$, and $\\Gamma(-u_0) = \\Gamma(u_0)$.\n",
    "\n",
    "Now let's consider proper time: the shortest time possible interval for Mary's ball to travel from Mary's hand to hit Frank's ball is measured in frame $K^{\\prime}$, in which Mary is at rest. (This is true for any arbitrary time interval Mary experiences, not just one related to the ball.) In frame $K$, the time required for Mary's ball to travel downward is longer. Let's say\n",
    "\n",
    "### $\\vec{p_M} = m \\frac{dy^{\\prime}}{dt^{\\prime}} \\hat{y} = m \\frac{dy^{\\prime}}{dt} \\frac{dt}{dt^{\\prime}} \\hat{y}$, \n",
    "\n",
    "for which we use the chain rule. We need to simultaneously satisfy $\\Delta p_M^{\\prime} = +2 \\Gamma(u_0) \\, m u_0$, which requires\n",
    "\n",
    "### $\\frac{dt}{dt^{\\prime}} = \\Gamma(u_0)$.    (3)\n",
    "\n",
    "We know how to do this: to transform a proper time (say the time Mary waits for her ball to hit Frank's), we use the Lorentz transformation\n",
    "\n",
    "### $t = \\frac{t^{\\prime} + v y^{\\prime} / c^2}{\\sqrt{1 - v^2/c^2}}$.    (4)\n",
    "\n",
    "I used $y^{\\prime}$ instead of $x^{\\prime}$ in the transformation because the ball is moving in the $y$ direction, but it won't matter since the term $v y^{\\prime}/c^2$ doesn't show up in the derivative with respect to $t^{\\prime}$. To simultaneously satisfy (3) and (4), we require\n",
    "\n",
    "### $\\Gamma(u_0) = \\frac{dt}{dt^{\\prime}} = \\frac{1}{\\sqrt{1 - u_0^2/c^2}}$.\n",
    "\n",
    "Thus, relativistic momentum is given by\n",
    "\n",
    "## $p = \\frac{m u}{\\sqrt{1 - u^2/c^2}}$,\n",
    "\n",
    "<strong>where $u$ is the velocity of the object measured IN a frame of reference instead of the relative velocity between frames of reference.</strong>"
   ]
  },
  {
   "cell_type": "code",
   "execution_count": null,
   "id": "78e31010",
   "metadata": {},
   "outputs": [],
   "source": []
  }
 ],
 "metadata": {
  "kernelspec": {
   "display_name": "Python 3",
   "language": "python",
   "name": "python3"
  },
  "language_info": {
   "codemirror_mode": {
    "name": "ipython",
    "version": 3
   },
   "file_extension": ".py",
   "mimetype": "text/x-python",
   "name": "python",
   "nbconvert_exporter": "python",
   "pygments_lexer": "ipython3",
   "version": "3.8.8"
  }
 },
 "nbformat": 4,
 "nbformat_minor": 5
}
