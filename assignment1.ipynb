{
 "cells": [
  {
   "cell_type": "markdown",
   "id": "0da2be18-2742-484a-a53a-703bc15d09b1",
   "metadata": {},
   "source": [
    "# PHYS 309 Assignment 1\n",
    "\n",
    "### Getting started\n",
    "\n",
    "<ul>\n",
    "    <li>If you do not already have the <a href=\"https://www.anaconda.com/products/distribution\">Anaconda <tt>python</tt> distribution</a>, click the link to install the individual, free version</li>\n",
    "    <li>Download this notebook to your own computer, open with <tt>Jupyter</tt> notebook or lab, and complete the missing code. See the <a href=\"https://docs.jupyter.org/en/latest/start/index.html\"><tt>Jupyter</tt> documentation</a> for help.</li>\n",
    "</ul>\n",
    "\n",
    "<strong>Instead of putting in the values of physical constants such as $c$ and $\\epsilon_0$ by hand, use SI values pre-programmed into [scipy.constants](https://docs.scipy.org/doc/scipy/reference/constants.html). \n",
    "For example, $\\mu_0$ is <tt>constants.mu_0</tt>. \n",
    "\n",
    "### Set up <tt>python</tt> environment"
   ]
  },
  {
   "cell_type": "code",
   "execution_count": 1,
   "id": "0924e7c7",
   "metadata": {},
   "outputs": [],
   "source": [
    "import numpy as np\n",
    "import matplotlib.pyplot as plt\n",
    "\n",
    " # Contains physical constants defined in SI units (default) as well as other systems\n",
    "from scipy import constants\n",
    "\n",
    "# Make easily readable plots with large axis labels\n",
    "plt.rcParams.update({\"font.size\":16, \"axes.labelsize\":16, \"font.family\":\"sans-serif\", \n",
    "                     \"font.sans-serif\":\"Arial\"})"
   ]
  },
  {
   "cell_type": "markdown",
   "id": "9cd995cd",
   "metadata": {},
   "source": [
    "### Questions\n",
    "\n",
    "\n",
    "Recall that the speed of light in vacuum is \n",
    "\\begin{equation}\n",
    "c = \\frac{1}{\\sqrt{\\epsilon_0 \\mu_0}}, \\; \\; \\; \\; \\; (1)\n",
    "\\end{equation}\n",
    "where $\\epsilon_0 = 8.85 \\times 10^{-12}$ F/m (Farads per meter)$^{*}$ is the electric permittivity of free space and $\\mu_0 = 1.26 \\times 10^{-6}$ N/A$^2$ (Newtons per Ampere$^2$)$^{**}$ is the magnetic permeability of free space. The electric field created by a point charge $q$ is\n",
    "\\begin{equation}\n",
    "E = \\frac{1}{4 \\pi \\epsilon_0} \\frac{q}{r^2}. \\; \\; \\; \\; (2)\n",
    "\\end{equation}\n",
    "\n",
    "Suppose a charged particle is moving at some fraction $f$ of the speed of light in vacuum ($v_q = f c; \\; 0 < f < 1$) as seen in reference frame $K$. Reference frame $K^{\\prime}$ is co-moving with the point charge, so that $\\frac{dx^{\\prime}}{dt^{\\prime}} = v^{\\prime}_q = 0$ in frame $K^{\\prime}$. To make the math easier, put $q$ at the origin of $K^{\\prime}$.\n",
    "\n",
    "To understand Einstein's motivation for developing the special theory of relativity, make the <strong>incorrect, erroneous, and wrong</strong> assumption that the Galilean velocity transformation holds true for all values of $f$:\n",
    "\\begin{equation}\n",
    "\\frac{dx^{\\prime}}{dt^{\\prime}} = \\frac{dx}{dt} - v_q \\; \\; \\; (3)\n",
    "\\end{equation}\n",
    "\n",
    "<ol>\n",
    "    <li>Assume the charged particle is an electron. Using Equation 2, calculate and plot the electric field as a function of distance $r^{\\prime}$ from $q$ in frame $K^{\\prime}$. Choose an x-axis range that makes sense to you and <strong>label both axes with correct units.</strong></li>\n",
    "</ol>"
   ]
  },
  {
   "cell_type": "code",
   "execution_count": null,
   "id": "319752be",
   "metadata": {},
   "outputs": [],
   "source": [
    "# Plot here"
   ]
  },
  {
   "cell_type": "markdown",
   "id": "96b3242b",
   "metadata": {},
   "source": [
    "<ol start=2>\n",
    "    <li>The Galilean velocity transformation suggests that objects can \"catch up\" with light, so that light in a vacuum appears to be going slower than the value of $c$ from Equation (1). Make a plot of $c^{\\prime}$, the <strong>incorrect</strong> speed of light in frame $K^{\\prime}$ according to the Galilean transformation, as a function of $f$. Put units on the axes where appropriate.</li>\n",
    "</ol>"
   ]
  },
  {
   "cell_type": "code",
   "execution_count": null,
   "id": "09e71b51",
   "metadata": {},
   "outputs": [],
   "source": [
    "# Plot here"
   ]
  },
  {
   "cell_type": "markdown",
   "id": "5480ffc5",
   "metadata": {},
   "source": [
    "<ol start=3>\n",
    "    <li>In frame $K^{\\prime}$, something has to give: either Equation (1) is no longer true, or the values of $\\epsilon_0$ and/or $\\mu_0$ have to change. Suppose Equation (1) is still true and $\\mu_0 = \\mu_0^{\\prime}$. Make a plot with two vertically stacked subplots. The top subplot should show $\\epsilon_0^{\\prime}$ as a function of $f$, while the bottom plot should show the electric field $E^{\\prime} = \\frac{1}{4 \\pi \\epsilon_0^{\\prime}} \\frac{q}{{r^{\\prime}}^2}$ at $r^{\\prime} = 1 \\mu \\mathrm{m} = 10^{-6}$ m as a function of $f$. Put units on the axes where appropriate.</li>\n",
    "</ol>"
   ]
  },
  {
   "cell_type": "code",
   "execution_count": null,
   "id": "0c2e27c4",
   "metadata": {},
   "outputs": [],
   "source": [
    "# Plot here"
   ]
  },
  {
   "cell_type": "markdown",
   "id": "76c32642",
   "metadata": {},
   "source": [
    "<ol start=4>\n",
    "    <li>Now assume $f = 0.5$. In the same plot window, plot $E^{\\prime}(r^{\\prime})$ given by Equation 2 (same curve as in Problem 1) <em>and</em> $E^{\\prime}(r^{\\prime})$ calculated as in Problem 3, where $\\epsilon_0^{\\prime}$ is a function of $f$. Do you notice a problem?</li>\n",
    "</ol>"
   ]
  },
  {
   "cell_type": "code",
   "execution_count": null,
   "id": "af5db0d5",
   "metadata": {},
   "outputs": [],
   "source": [
    "# Plot here"
   ]
  },
  {
   "cell_type": "markdown",
   "id": "a87bd6f9",
   "metadata": {},
   "source": [
    "<ol start=5>\n",
    "    <li>To resolve the issues revealed by the plot from Problem 4, you may suggest setting $\\epsilon_0^{\\prime} = \\epsilon_0$ and allowing $\\mu_0^{\\prime}$ to vary with $f$. Let's explore that solution. To accompany the point charge in problems 1-4, add a current loop that's also at rest in frame $K^{\\prime}$. Recall that the magnitude of the magnetic field strength at the center of the loop in frame $K$ is $B = \\frac{\\mu_0 I}{2R}$, where $I$ is the current and $R$ is the radius of the loop. Suppose $I = 1$ A and $R = 1$ m. Assume $E^{\\prime} = E$, $B^{\\prime} = B$, and $c^{\\prime}$ depends on $f$ as in problem 2. Plot $\\mu_0$ as a function of $f$.</li>\n",
    "</ol>"
   ]
  },
  {
   "cell_type": "code",
   "execution_count": null,
   "id": "0c14a720",
   "metadata": {},
   "outputs": [],
   "source": [
    "# Plot here"
   ]
  },
  {
   "cell_type": "markdown",
   "id": "77579087",
   "metadata": {},
   "source": [
    "<ol start=6>\n",
    "<li>If we calculate $c^{\\prime}$ using the Galilean transformation in Equation 3, is there any value of $f$ for which $E^{\\prime} = E$ <strong>and</strong> $B^{\\prime} = B$? Make a graph to illustrate your answer.</li>\n",
    "</ol>"
   ]
  },
  {
   "cell_type": "code",
   "execution_count": null,
   "id": "372ac653",
   "metadata": {},
   "outputs": [],
   "source": [
    "# Plot here"
   ]
  },
  {
   "cell_type": "markdown",
   "id": "82255da9",
   "metadata": {},
   "source": [
    "Conceptual questions about the conflict between the Galilean velocity transformation and E&M are in the written homework assignment."
   ]
  },
  {
   "cell_type": "markdown",
   "id": "2bd9f07e",
   "metadata": {},
   "source": [
    "$^{*}$Farad = Coulomb/Volt: Farad is the unit of capacitance, which measures the amount of charge necessary to increase the electric potential of a system by 1 Volt. Farads/meter measure how much capacitance you get per meter of free space between yourself and a charged particle.\n",
    "\n",
    "$^{**}$Newtons/Ampere$^2$ = Newtons/(Coulombs/second)$^2$. $\\mu_0$ measures how effective inductance is at creating magnetic force in free space."
   ]
  },
  {
   "cell_type": "code",
   "execution_count": null,
   "id": "6446567c",
   "metadata": {},
   "outputs": [],
   "source": []
  }
 ],
 "metadata": {
  "kernelspec": {
   "display_name": "Python 3",
   "language": "python",
   "name": "python3"
  },
  "language_info": {
   "codemirror_mode": {
    "name": "ipython",
    "version": 3
   },
   "file_extension": ".py",
   "mimetype": "text/x-python",
   "name": "python",
   "nbconvert_exporter": "python",
   "pygments_lexer": "ipython3",
   "version": "3.8.8"
  }
 },
 "nbformat": 4,
 "nbformat_minor": 5
}
